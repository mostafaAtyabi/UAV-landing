{
  "nbformat": 4,
  "nbformat_minor": 0,
  "metadata": {
    "colab": {
      "provenance": []
    },
    "kernelspec": {
      "name": "python3",
      "display_name": "Python 3"
    },
    "language_info": {
      "name": "python"
    }
  },
  "cells": [
    {
      "cell_type": "code",
      "execution_count": null,
      "metadata": {
        "id": "-vEVxuS-NJBN"
      },
      "outputs": [],
      "source": [
        "import cv2\n",
        "import numpy as np\n",
        "import matplotlib\n",
        "from matplotlib.pyplot import imshow\n",
        "from matplotlib import pyplot as plt\n",
        "from google.colab.patches import cv2_imshow\n",
        "\n",
        "length, width = 640 , 400\n",
        "\n",
        "def func1(inp):\n",
        "    img = cv2.imread(inp)\n",
        "    img = cv2.resize(img, (length, width))\n",
        "    image = cv2.cvtColor(img,cv2.COLOR_BGR2HLS)\n",
        "    lower = np.uint8([0, 200, 0])\n",
        "    upper = np.uint8([255, 255, 255])\n",
        "    white_mask = cv2.inRange(image, lower, upper)\n",
        "\n",
        "    lower = np.uint8([10, 0,   100])\n",
        "    upper = np.uint8([40, 255, 255])\n",
        "    yellow_mask = cv2.inRange(image, lower, upper)\n",
        "    mask = cv2.bitwise_or(white_mask, yellow_mask)\n",
        "    result = img.copy()\n",
        "\n",
        "    # cv2_imshow(mask)\n",
        "    return mask"
      ]
    },
    {
      "cell_type": "code",
      "source": [
        "def func11(inp):\n",
        "    image = func1(inp)\n",
        "\n",
        "\n",
        "    # Thresholding to create a binary image\n",
        "    _, binary = cv2.threshold(image, 127, 255, cv2.THRESH_BINARY)\n",
        "    # cv2_imshow(image)\n",
        "\n",
        "    # Find contours\n",
        "    contours, _ = cv2.findContours(binary, cv2.RETR_EXTERNAL, cv2.CHAIN_APPROX_SIMPLE)\n",
        "\n",
        "    # Check if any contours were found\n",
        "    if contours:\n",
        "        # Find the largest contour, which is likely the \"H\"\n",
        "        largest_contour = max(contours, key=cv2.contourArea)\n",
        "\n",
        "        # Compute the center of the contour using moments\n",
        "        M = cv2.moments(largest_contour)\n",
        "        if M[\"m00\"] != 0:\n",
        "            cX = int(M[\"m10\"] / M[\"m00\"])\n",
        "            cY = int(M[\"m01\"] / M[\"m00\"])\n",
        "        else:\n",
        "            cX, cY = 0, 0\n",
        "\n",
        "        # Draw the center of \"H\" on the image\n",
        "        output_image = cv2.cvtColor(binary, cv2.COLOR_GRAY2BGR)  # Convert to BGR for color drawing\n",
        "        cv2.circle(output_image, (cX, cY), 10, (0, 0, 255), -1)\n",
        "        cv2.putText(output_image, \"Center\", (cX - 20, cY - 20), cv2.FONT_HERSHEY_SIMPLEX, 0.5, (0, 0, 255), 2)\n",
        "\n",
        "        # Save or display the image\n",
        "        cv2_imshow(output_image)\n",
        "    else:\n",
        "        print(\"No contours found in the image.\")\n",
        "\n",
        "\n"
      ],
      "metadata": {
        "id": "BXzcBlkKWSAD"
      },
      "execution_count": null,
      "outputs": []
    },
    {
      "cell_type": "code",
      "source": [
        "func11(\"4.png\")\n",
        "# func1(\"2.png\")\n",
        "# func1(\"3.png\")\n",
        "# func1(\"4.png\")"
      ],
      "metadata": {
        "colab": {
          "base_uri": "https://localhost:8080/",
          "height": 417
        },
        "id": "127mrh_yOgiD",
        "outputId": "315bbc96-3504-4a4d-c384-20df2d49f000"
      },
      "execution_count": null,
      "outputs": [
        {
          "output_type": "display_data",
          "data": {
            "text/plain": [
              "<PIL.Image.Image image mode=RGB size=640x400>"
            ],
            "image/png": "[encoded data removed]"
          },
          "metadata": {}
        }
      ]
    },
    {
      "cell_type": "code",
      "source": [
        "def func12(inp):\n",
        "    img = func1(inp)\n",
        "\n",
        "    # The image is already a mask (grayscale), so no need to convert it to grayscale again\n",
        "    gray = img  # The output from func1 is already a single-channel image\n",
        "\n",
        "    # Apply Gaussian blur to reduce noise and improve circle detection\n",
        "    blurred = cv2.GaussianBlur(gray, (9, 9), 2)\n",
        "\n",
        "\n",
        "    # Apply Hough Circle Transform to detect circles\n",
        "    circles = cv2.HoughCircles(\n",
        "        blurred,\n",
        "        cv2.HOUGH_GRADIENT,\n",
        "        dp=1.2,  # Inverse ratio of the accumulator resolution to the image resolution\n",
        "        minDist=500,  # Minimum distance between detected centers\n",
        "        param1=70,  # Higher threshold for Canny edge detector\n",
        "        param2=50,  # Accumulator threshold for circle detection\n",
        "        minRadius=10,  # Minimum radius to be detected\n",
        "        maxRadius=0  # Maximum radius to be detected (0 means no max limit)\n",
        "    )\n",
        "    output_image = cv2.cvtColor(img, cv2.COLOR_GRAY2BGR)\n",
        "    # Ensure at least one circle was found\n",
        "    if circles is not None:\n",
        "        circles = np.round(circles[0, :]).astype(\"int\")\n",
        "\n",
        "        for (x, y, r) in circles:\n",
        "\n",
        "            cv2.circle(output_image, (x, y), r, (0, 255, 0), 4)\n",
        "            cv2.circle(output_image, (x, y), 10, (0, 0, 255), -1)\n",
        "            cv2.putText(output_image, \"Center\", (x - 20, y - 20), cv2.FONT_HERSHEY_SIMPLEX, 0.5, (0, 0, 255), 2)\n",
        "\n",
        "\n",
        "    cv2_imshow(output_image)\n"
      ],
      "metadata": {
        "id": "BPQ0LrOvO-kj"
      },
      "execution_count": null,
      "outputs": []
    },
    {
      "cell_type": "code",
      "source": [
        "func12(\"1.png\")\n",
        "func11(\"1.png\")"
      ],
      "metadata": {
        "colab": {
          "base_uri": "https://localhost:8080/",
          "height": 817
        },
        "id": "KtkdlgJjQHQe",
        "outputId": "2dece351-ea0d-405a-d552-5a006c434cbe"
      },
      "execution_count": null,
      "outputs": [
        {
          "output_type": "display_data",
          "data": {
            "text/plain": [
              "<PIL.Image.Image image mode=RGB size=640x400>"
            ],
            "image/png": "[encoded data removed]"
          },
          "metadata": {}
        },
        {
          "output_type": "display_data",
          "data": {
            "text/plain": [
              "<PIL.Image.Image image mode=RGB size=640x400>"
            ],
            "image/png": "[encoded data removed]"
          },
          "metadata": {}
        }
      ]
    },
    {
      "cell_type": "code",
      "source": [],
      "metadata": {
        "id": "j5uHDfCzT8hM"
      },
      "execution_count": null,
      "outputs": []
    }
  ]
}